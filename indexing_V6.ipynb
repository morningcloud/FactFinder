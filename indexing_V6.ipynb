{
 "cells": [
  {
   "cell_type": "code",
   "execution_count": 13,
   "metadata": {},
   "outputs": [
    {
     "data": {
      "text/plain": [
       "'\\nRemove STOP WORDS\\nUnicode normalization to string decoding\\nNo entity yet index\\n'"
      ]
     },
     "execution_count": 13,
     "metadata": {},
     "output_type": "execute_result"
    }
   ],
   "source": [
    "'''\n",
    "Remove STOP WORDS\n",
    "Unicode normalization to string decoding\n",
    "No entity yet index\n",
    "'''"
   ]
  },
  {
   "cell_type": "code",
   "execution_count": 1,
   "metadata": {
    "collapsed": true
   },
   "outputs": [],
   "source": [
    "import xapian\n",
    "import os\n",
    "import io\n",
    "from zipfile import ZipFile\n",
    "import shutil\n",
    "import csv\n",
    "import re\n",
    "import pandas as pd\n",
    "import numpy as np\n",
    "import json\n",
    "import time\n",
    "from nltk.corpus import stopwords\n",
    "import nltk"
   ]
  },
  {
   "cell_type": "code",
   "execution_count": 2,
   "metadata": {
    "collapsed": true
   },
   "outputs": [],
   "source": [
    "pd.options.display.max_colwidth = 100"
   ]
  },
  {
   "cell_type": "code",
   "execution_count": 3,
   "metadata": {
    "collapsed": true
   },
   "outputs": [],
   "source": [
    "dbpath = \"index_V6_nostop\""
   ]
  },
  {
   "cell_type": "code",
   "execution_count": 4,
   "metadata": {
    "collapsed": true
   },
   "outputs": [],
   "source": [
    "zf = ZipFile(\"wiki-pages-text.zip\")"
   ]
  },
  {
   "cell_type": "code",
   "execution_count": 5,
   "metadata": {},
   "outputs": [
    {
     "data": {
      "text/plain": [
       "110"
      ]
     },
     "execution_count": 5,
     "metadata": {},
     "output_type": "execute_result"
    }
   ],
   "source": [
    "files = [item.filename for item in zf.filelist]\n",
    "len(files)"
   ]
  },
  {
   "cell_type": "code",
   "execution_count": 6,
   "metadata": {},
   "outputs": [
    {
     "data": {
      "text/plain": [
       "['wiki-pages-text/',\n",
       " 'wiki-pages-text/wiki-009.txt',\n",
       " 'wiki-pages-text/wiki-021.txt',\n",
       " 'wiki-pages-text/wiki-035.txt',\n",
       " 'wiki-pages-text/wiki-034.txt',\n",
       " 'wiki-pages-text/wiki-020.txt',\n",
       " 'wiki-pages-text/wiki-008.txt',\n",
       " 'wiki-pages-text/wiki-036.txt',\n",
       " 'wiki-pages-text/wiki-022.txt',\n",
       " 'wiki-pages-text/wiki-023.txt']"
      ]
     },
     "execution_count": 6,
     "metadata": {},
     "output_type": "execute_result"
    }
   ],
   "source": [
    "files[:10]"
   ]
  },
  {
   "cell_type": "code",
   "execution_count": 7,
   "metadata": {
    "collapsed": true
   },
   "outputs": [],
   "source": [
    "import unicodedata\n",
    "import spacy\n",
    "import en_core_web_sm\n",
    "#import en_core_web_lg\n",
    "\n",
    "def remove_extra(wordlist):\n",
    "    text = re.sub(r\"(-LRB-|-LSB-|-RSB-|-RRB-|-COLON-)*\", \"\", wordlist)\n",
    "    return text\n",
    "\n",
    "def unicodes(string):\n",
    "    nfd_string = unicodedata.normalize(\"NFD\", string)\n",
    "    nfd = nfd_string.encode('WINDOWS-1252', 'ignore')\n",
    "    strg=nfd.decode('latin-1')#\"utf-8\") #utf-8 didn't work as the data is in latin-1\n",
    "    return remove_extra(strg)\n",
    "\n",
    "def titleunicodes(string):\n",
    "    nfd_string = unicodedata.normalize(\"NFD\", string)\n",
    "    nfd = nfd_string.encode('WINDOWS-1252', 'ignore')\n",
    "    strg = (nfd.decode('latin-1')) #\"utf-8\")\n",
    "    strg = remove_extra(strg)\n",
    "    cleanString = re.sub('[-_]',' ', strg)\n",
    "    #cleanString = re.sub('\\W+','', str(cleanString))\n",
    "    return cleanString\n",
    "\n",
    "nlp = en_core_web_sm.load()\n",
    "def get_entity(document):\n",
    "    doc = nlp(document)\n",
    "    entity = []\n",
    "    for ent in doc.ents:\n",
    "        entity.append(str(ent).lower())\n",
    "    return entity"
   ]
  },
  {
   "cell_type": "code",
   "execution_count": 8,
   "metadata": {
    "collapsed": true
   },
   "outputs": [],
   "source": [
    "def read_doc(zf, path):\n",
    "    items = []\n",
    "    fp = zf.open(path, mode='r')\n",
    "    tfp = io.TextIOWrapper(fp)\n",
    "    cnt=0\n",
    "    for line in tfp.readlines():\n",
    "        #match = re.match(\"(\\w+)\\s(\\d+)\\s(.*)\\n\", line)\n",
    "        match = re.match(\"([\\S]+)\\s(\\d+)\\s(.*)\\n\", line)\n",
    "        #if cnt <= 2:\n",
    "            #print(\"line\",line)\n",
    "            #print(\"match\",match)\n",
    "            #print(\"match0\",match[0])\n",
    "            #print(\"match1\",match[1])\n",
    "            #cnt += 1\n",
    "        if match:\n",
    "            combine = match[0]\n",
    "            unicodetext = unicodes(combine)\n",
    "            unicodetitle = titleunicodes(match[1])\n",
    "            items.append([match[1],combine,unicodetitle,unicodetext])\n",
    "    fp.close()\n",
    "    tfp.close()\n",
    "    return items"
   ]
  },
  {
   "cell_type": "code",
   "execution_count": 9,
   "metadata": {
    "collapsed": true
   },
   "outputs": [],
   "source": [
    "def read_doc_as_df(zf, path):\n",
    "    items = read_doc(zf, path)\n",
    "    raw_df = pd.DataFrame(data=items, columns=['doc_id', 'sentence_text','unicode_doc_id','unicode_text'])\n",
    "    func = lambda x: \" \".join(x)\n",
    "    func2 = lambda x: min(x)\n",
    "    return raw_df.groupby('doc_id')['sentence_text','unicode_doc_id','unicode_text'].agg(\n",
    "        {'sentence_text': func, 'unicode_doc_id': func2,'unicode_text':func})"
   ]
  },
  {
   "cell_type": "code",
   "execution_count": 10,
   "metadata": {
    "collapsed": true,
    "scrolled": false
   },
   "outputs": [],
   "source": [
    "\n",
    "def mprint(text):\n",
    "    print(time.strftime(\"%a, %d %b %Y %H:%M:%S +0000\"),text)\n",
    "\n",
    "def getstopper():\n",
    "    stopper = xapian.SimpleStopper()\n",
    "    for s in stopwords.words('english'):\n",
    "        stopper.add(s)\n",
    "    return stopper\n",
    "\n"
   ]
  },
  {
   "cell_type": "code",
   "execution_count": 12,
   "metadata": {
    "scrolled": false
   },
   "outputs": [
    {
     "name": "stdout",
     "output_type": "stream",
     "text": [
      "Tue, 21 May 2019 00:09:58 +0000 wiki-pages-text/\n",
      "Tue, 21 May 2019 00:09:58 +0000 wiki-pages-text/wiki-001.txt\n",
      "Tue, 21 May 2019 00:10:46 +0000 wiki-pages-text/wiki-002.txt\n",
      "Tue, 21 May 2019 00:11:45 +0000 wiki-pages-text/wiki-003.txt\n",
      "Tue, 21 May 2019 00:12:47 +0000 wiki-pages-text/wiki-004.txt\n",
      "Tue, 21 May 2019 00:13:50 +0000 wiki-pages-text/wiki-005.txt\n",
      "Tue, 21 May 2019 00:15:12 +0000 wiki-pages-text/wiki-006.txt\n",
      "Tue, 21 May 2019 00:16:25 +0000 wiki-pages-text/wiki-007.txt\n",
      "Tue, 21 May 2019 00:17:56 +0000 wiki-pages-text/wiki-008.txt\n",
      "Tue, 21 May 2019 00:19:39 +0000 wiki-pages-text/wiki-009.txt\n",
      "Tue, 21 May 2019 00:20:54 +0000 wiki-pages-text/wiki-010.txt\n",
      "Tue, 21 May 2019 00:22:01 +0000 wiki-pages-text/wiki-011.txt\n",
      "Tue, 21 May 2019 00:23:32 +0000 wiki-pages-text/wiki-012.txt\n",
      "Tue, 21 May 2019 00:25:11 +0000 wiki-pages-text/wiki-013.txt\n",
      "Tue, 21 May 2019 00:26:54 +0000 wiki-pages-text/wiki-014.txt\n",
      "Tue, 21 May 2019 00:29:11 +0000 wiki-pages-text/wiki-015.txt\n",
      "Tue, 21 May 2019 00:30:45 +0000 wiki-pages-text/wiki-016.txt\n",
      "Tue, 21 May 2019 00:32:46 +0000 wiki-pages-text/wiki-017.txt\n",
      "Tue, 21 May 2019 00:34:36 +0000 wiki-pages-text/wiki-018.txt\n",
      "Tue, 21 May 2019 00:36:35 +0000 wiki-pages-text/wiki-019.txt\n",
      "Tue, 21 May 2019 00:39:20 +0000 wiki-pages-text/wiki-020.txt\n",
      "Tue, 21 May 2019 00:42:00 +0000 wiki-pages-text/wiki-021.txt\n",
      "Tue, 21 May 2019 00:44:00 +0000 wiki-pages-text/wiki-022.txt\n",
      "Tue, 21 May 2019 00:47:25 +0000 wiki-pages-text/wiki-023.txt\n",
      "Tue, 21 May 2019 00:51:55 +0000 wiki-pages-text/wiki-024.txt\n",
      "Tue, 21 May 2019 00:55:51 +0000 wiki-pages-text/wiki-025.txt\n",
      "Tue, 21 May 2019 00:59:11 +0000 wiki-pages-text/wiki-026.txt\n",
      "Tue, 21 May 2019 01:02:58 +0000 wiki-pages-text/wiki-027.txt\n",
      "Tue, 21 May 2019 01:06:43 +0000 wiki-pages-text/wiki-028.txt\n",
      "Tue, 21 May 2019 01:12:08 +0000 wiki-pages-text/wiki-029.txt\n",
      "Tue, 21 May 2019 01:15:24 +0000 wiki-pages-text/wiki-030.txt\n",
      "Tue, 21 May 2019 01:19:47 +0000 wiki-pages-text/wiki-031.txt\n",
      "Tue, 21 May 2019 01:22:58 +0000 wiki-pages-text/wiki-032.txt\n",
      "Tue, 21 May 2019 01:27:04 +0000 wiki-pages-text/wiki-033.txt\n",
      "Tue, 21 May 2019 01:31:37 +0000 wiki-pages-text/wiki-034.txt\n",
      "Tue, 21 May 2019 01:35:18 +0000 wiki-pages-text/wiki-035.txt\n",
      "Tue, 21 May 2019 01:40:24 +0000 wiki-pages-text/wiki-036.txt\n",
      "Tue, 21 May 2019 01:44:38 +0000 wiki-pages-text/wiki-037.txt\n",
      "Tue, 21 May 2019 01:49:32 +0000 wiki-pages-text/wiki-038.txt\n",
      "Tue, 21 May 2019 01:54:41 +0000 wiki-pages-text/wiki-039.txt\n",
      "Tue, 21 May 2019 02:01:13 +0000 wiki-pages-text/wiki-040.txt\n",
      "Tue, 21 May 2019 02:06:36 +0000 wiki-pages-text/wiki-041.txt\n",
      "Tue, 21 May 2019 02:14:04 +0000 wiki-pages-text/wiki-042.txt\n",
      "Tue, 21 May 2019 02:18:47 +0000 wiki-pages-text/wiki-043.txt\n",
      "Tue, 21 May 2019 02:23:51 +0000 wiki-pages-text/wiki-044.txt\n",
      "Tue, 21 May 2019 02:32:10 +0000 wiki-pages-text/wiki-045.txt\n",
      "Tue, 21 May 2019 02:36:37 +0000 wiki-pages-text/wiki-046.txt\n",
      "Tue, 21 May 2019 02:42:58 +0000 wiki-pages-text/wiki-047.txt\n",
      "Tue, 21 May 2019 02:49:46 +0000 wiki-pages-text/wiki-048.txt\n",
      "Tue, 21 May 2019 02:54:52 +0000 wiki-pages-text/wiki-049.txt\n",
      "Tue, 21 May 2019 03:00:57 +0000 wiki-pages-text/wiki-050.txt\n",
      "Tue, 21 May 2019 03:07:18 +0000 wiki-pages-text/wiki-051.txt\n",
      "Tue, 21 May 2019 03:11:51 +0000 wiki-pages-text/wiki-052.txt\n",
      "Tue, 21 May 2019 03:16:08 +0000 wiki-pages-text/wiki-053.txt\n",
      "Tue, 21 May 2019 03:39:49 +0000 wiki-pages-text/wiki-054.txt\n",
      "Tue, 21 May 2019 03:45:55 +0000 wiki-pages-text/wiki-055.txt\n",
      "Tue, 21 May 2019 03:53:28 +0000 wiki-pages-text/wiki-056.txt\n",
      "Tue, 21 May 2019 04:05:42 +0000 wiki-pages-text/wiki-057.txt\n",
      "Tue, 21 May 2019 04:13:42 +0000 wiki-pages-text/wiki-058.txt\n",
      "Tue, 21 May 2019 04:20:18 +0000 wiki-pages-text/wiki-059.txt\n",
      "Tue, 21 May 2019 04:30:22 +0000 wiki-pages-text/wiki-060.txt\n",
      "Tue, 21 May 2019 04:42:04 +0000 wiki-pages-text/wiki-061.txt\n",
      "Tue, 21 May 2019 04:49:23 +0000 wiki-pages-text/wiki-062.txt\n",
      "Tue, 21 May 2019 04:59:06 +0000 wiki-pages-text/wiki-063.txt\n",
      "Tue, 21 May 2019 05:06:20 +0000 wiki-pages-text/wiki-064.txt\n",
      "Tue, 21 May 2019 05:22:08 +0000 wiki-pages-text/wiki-065.txt\n",
      "Tue, 21 May 2019 05:30:56 +0000 wiki-pages-text/wiki-066.txt\n",
      "Tue, 21 May 2019 05:41:33 +0000 wiki-pages-text/wiki-067.txt\n",
      "Tue, 21 May 2019 05:50:27 +0000 wiki-pages-text/wiki-068.txt\n",
      "Tue, 21 May 2019 06:04:08 +0000 wiki-pages-text/wiki-069.txt\n",
      "Tue, 21 May 2019 06:15:15 +0000 wiki-pages-text/wiki-070.txt\n",
      "Tue, 21 May 2019 06:28:38 +0000 wiki-pages-text/wiki-071.txt\n",
      "Tue, 21 May 2019 06:40:28 +0000 wiki-pages-text/wiki-072.txt\n",
      "Tue, 21 May 2019 06:47:00 +0000 wiki-pages-text/wiki-073.txt\n",
      "Tue, 21 May 2019 06:59:37 +0000 wiki-pages-text/wiki-074.txt\n",
      "Tue, 21 May 2019 07:09:31 +0000 wiki-pages-text/wiki-075.txt\n",
      "Tue, 21 May 2019 07:19:49 +0000 wiki-pages-text/wiki-076.txt\n",
      "Tue, 21 May 2019 07:26:50 +0000 wiki-pages-text/wiki-077.txt\n",
      "Tue, 21 May 2019 07:35:26 +0000 wiki-pages-text/wiki-078.txt\n",
      "Tue, 21 May 2019 07:42:29 +0000 wiki-pages-text/wiki-079.txt\n",
      "Tue, 21 May 2019 07:48:51 +0000 wiki-pages-text/wiki-080.txt\n",
      "Tue, 21 May 2019 07:55:33 +0000 wiki-pages-text/wiki-081.txt\n",
      "Tue, 21 May 2019 08:02:00 +0000 wiki-pages-text/wiki-082.txt\n",
      "Tue, 21 May 2019 08:09:30 +0000 wiki-pages-text/wiki-083.txt\n",
      "Tue, 21 May 2019 08:18:28 +0000 wiki-pages-text/wiki-084.txt\n",
      "Tue, 21 May 2019 08:26:02 +0000 wiki-pages-text/wiki-085.txt\n",
      "Tue, 21 May 2019 08:35:37 +0000 wiki-pages-text/wiki-086.txt\n",
      "Tue, 21 May 2019 08:45:31 +0000 wiki-pages-text/wiki-087.txt\n",
      "Tue, 21 May 2019 08:53:34 +0000 wiki-pages-text/wiki-088.txt\n",
      "Tue, 21 May 2019 09:01:04 +0000 wiki-pages-text/wiki-089.txt\n",
      "Tue, 21 May 2019 09:09:49 +0000 wiki-pages-text/wiki-090.txt\n",
      "Tue, 21 May 2019 09:17:43 +0000 wiki-pages-text/wiki-091.txt\n",
      "Tue, 21 May 2019 09:25:37 +0000 wiki-pages-text/wiki-092.txt\n",
      "Tue, 21 May 2019 09:33:50 +0000 wiki-pages-text/wiki-093.txt\n",
      "Tue, 21 May 2019 09:41:07 +0000 wiki-pages-text/wiki-094.txt\n",
      "Tue, 21 May 2019 09:48:21 +0000 wiki-pages-text/wiki-095.txt\n",
      "Tue, 21 May 2019 09:55:53 +0000 wiki-pages-text/wiki-096.txt\n",
      "Tue, 21 May 2019 10:04:50 +0000 wiki-pages-text/wiki-097.txt\n",
      "Tue, 21 May 2019 10:12:26 +0000 wiki-pages-text/wiki-098.txt\n",
      "Tue, 21 May 2019 10:20:47 +0000 wiki-pages-text/wiki-099.txt\n",
      "Tue, 21 May 2019 10:31:07 +0000 wiki-pages-text/wiki-100.txt\n",
      "Tue, 21 May 2019 10:41:03 +0000 wiki-pages-text/wiki-101.txt\n",
      "Tue, 21 May 2019 10:49:46 +0000 wiki-pages-text/wiki-102.txt\n",
      "Tue, 21 May 2019 10:58:00 +0000 wiki-pages-text/wiki-103.txt\n",
      "Tue, 21 May 2019 11:06:59 +0000 wiki-pages-text/wiki-104.txt\n",
      "Tue, 21 May 2019 11:15:06 +0000 wiki-pages-text/wiki-105.txt\n",
      "Tue, 21 May 2019 11:24:59 +0000 wiki-pages-text/wiki-106.txt\n",
      "Tue, 21 May 2019 11:33:24 +0000 wiki-pages-text/wiki-107.txt\n",
      "Tue, 21 May 2019 11:42:01 +0000 wiki-pages-text/wiki-108.txt\n",
      "Tue, 21 May 2019 11:50:54 +0000 wiki-pages-text/wiki-109.txt\n",
      "CPU times: user 1h 49min 7s, sys: 2h 38min 5s, total: 4h 27min 13s\n",
      "Wall time: 11h 44min 54s\n"
     ]
    }
   ],
   "source": [
    "%%time\n",
    "\n",
    "#Imporvements done:\n",
    "# Remove stop words\n",
    "# add STOP_STEMMED\n",
    "# Create or open the database we're going to be writing to.\n",
    "db = xapian.WritableDatabase(dbpath, xapian.DB_CREATE_OR_OPEN)\n",
    "\n",
    "# Set up a TermGenerator that we'll use in indexing.\n",
    "termgenerator = xapian.TermGenerator()\n",
    "termgenerator.set_stemmer(xapian.Stem(\"en\"))\n",
    "stopper = getstopper()\n",
    "termgenerator.set_stopper(stopper)\n",
    "termgenerator.set_stopper_strategy(termgenerator.STOP_ALL)\n",
    "\n",
    "#termgenerator.set_stopper()\n",
    "#termgenerator.set_stopper_strategy(xapian.Stopper.STOP_ALL)\n",
    "for path in sorted(files): #['wiki-pages-text/wiki-056.txt']: # sorted(files):\n",
    "    mprint(path)\n",
    "    documents_df = read_doc_as_df(zf, path)\n",
    "    #for doc_id, text in documents_df.items():\n",
    "    for row in documents_df.itertuples(index=True, name='Pandas'):\n",
    "        #get the fields we will index\n",
    "        doc_id=row[0]\n",
    "        text=row[1]\n",
    "        unicode_doc_id=row[2]\n",
    "        unicode_text=row[3]\n",
    "        \n",
    "        # We make a document and tell the term generator to use this.\n",
    "        doc = xapian.Document()\n",
    "        termgenerator.set_document(doc)\n",
    "        \n",
    "        # Index each field with a suitable prefix.\n",
    "        termgenerator.index_text(doc_id, 1, 'S') #this will git stemmed as we insert it using termgenerator\n",
    "        termgenerator.index_text(unicode_doc_id, 2, 'B') #B => Topic\n",
    "        #termgenerator.index_text(' '.join([x for x in get_entity(unicode_text)]), 3, 'K') #K => Keyward\n",
    "        \n",
    "        # Index fields without prefixes for general search.\n",
    "        termgenerator.index_text(doc_id)\n",
    "        termgenerator.increase_termpos()\n",
    "        termgenerator.index_text(unicode_text)\n",
    "\n",
    "        # Store all the fields for display purposes.\n",
    "        doc.set_data(json.dumps(text))\n",
    "\n",
    "        # We use the identifier to ensure each object ends up in the\n",
    "        # database only once no matter how many times we run the\n",
    "        # indexer.\n",
    "        idterm = u\"Q\" + doc_id\n",
    "        doc.add_boolean_term(idterm)\n",
    "        db.replace_document(idterm, doc)\n",
    "db.commit()\n",
    "db.close()"
   ]
  },
  {
   "cell_type": "markdown",
   "metadata": {},
   "source": [
    "For Verification"
   ]
  },
  {
   "cell_type": "code",
   "execution_count": 14,
   "metadata": {},
   "outputs": [
    {
     "name": "stdout",
     "output_type": "stream",
     "text": [
      "UUID = 555aff35-a522-4e95-ab76-c6208b823d91\r\n",
      "number of documents = 5396106\r\n",
      "average document length = 130.881\r\n",
      "document length lower bound = 3\r\n",
      "document length upper bound = 136226\r\n",
      "highest document id ever used = 5396106\r\n",
      "has positional information = true\r\n",
      "revision = 540\r\n",
      "currently open for writing = false\r\n"
     ]
    }
   ],
   "source": [
    "!xapian-delve $dbpath"
   ]
  },
  {
   "cell_type": "code",
   "execution_count": 15,
   "metadata": {},
   "outputs": [
    {
     "data": {
      "text/plain": [
       "'index_V6_nostop'"
      ]
     },
     "execution_count": 15,
     "metadata": {},
     "output_type": "execute_result"
    }
   ],
   "source": [
    "dbpath"
   ]
  },
  {
   "cell_type": "code",
   "execution_count": 16,
   "metadata": {},
   "outputs": [
    {
     "name": "stdout",
     "output_type": "stream",
     "text": [
      "Posting List for term 'QLara_Croft-COLON-_Tomb_Raider' (termfreq 1, collfreq 0, wdf_max 0): 2782041\r\n"
     ]
    }
   ],
   "source": [
    "!xapian-delve -t QLara_Croft-COLON-_Tomb_Raider $dbpath"
   ]
  },
  {
   "cell_type": "code",
   "execution_count": 27,
   "metadata": {
    "collapsed": true
   },
   "outputs": [],
   "source": [
    "d=2782041\n",
    "a = !xapian-delve -r $d $dbpath"
   ]
  },
  {
   "cell_type": "markdown",
   "metadata": {},
   "source": [
    "Query Verification Testing"
   ]
  },
  {
   "cell_type": "code",
   "execution_count": 13,
   "metadata": {
    "collapsed": true
   },
   "outputs": [],
   "source": [
    "def get_doc_id(match):\n",
    "    for term in match.document.termlist():\n",
    "        term = term.term.decode(\"utf-8\") \n",
    "        m = re.match(\"Q(.*)\", term)\n",
    "        if m:\n",
    "            return m[1]\n",
    "    return None"
   ]
  },
  {
   "cell_type": "code",
   "execution_count": 14,
   "metadata": {
    "collapsed": true
   },
   "outputs": [],
   "source": [
    "# Prepare enquiry object\n",
    "\n",
    "# Open the database we're going to search.\n",
    "db = xapian.Database(dbpath)\n",
    "\n",
    "# Set up a QueryParser with a stemmer and suitable prefixes\n",
    "queryparser = xapian.QueryParser()\n",
    "queryparser.set_stemmer(xapian.Stem(\"en\"))\n",
    "queryparser.set_stemming_strategy(queryparser.STEM_SOME)\n",
    "queryparser.add_prefix('docid', 'S')\n",
    "\n",
    "# Use an Enquire object on the database to run the query\n",
    "enquire = xapian.Enquire(db)    "
   ]
  },
  {
   "cell_type": "code",
   "execution_count": 24,
   "metadata": {},
   "outputs": [
    {
     "name": "stdout",
     "output_type": "stream",
     "text": [
      "db= Database() index_V6_nostop\n",
      "<bound method _queryparser_gen_stoplist_iter of <xapian.QueryParser; proxy of <Swig Object of type 'Xapian::QueryParser *' at 0x11e1c13f0> >>\n",
      "Query(((drake@1 OR bell@2 OR Zreleas@3 OR Zalbum@5) FILTER (Q1994–95_Venezuelan_Primera_División_season OR QLara_Croft-COLON-_Tomb_Raider)))\n",
      "Doc Level Results:\n",
      "\n",
      "<xapian.MSetItem object at 0x125afef98>\n"
     ]
    },
    {
     "data": {
      "text/plain": [
       "[{'docid': 2782041,\n",
       "  'found_doc': 'Lara_Croft-COLON-_Tomb_Raider',\n",
       "  'percent': 25,\n",
       "  'rank': 1,\n",
       "  'term': [<xapian.TermListItem at 0x126008990>,\n",
       "   <xapian.TermListItem at 0x126008900>,\n",
       "   <xapian.TermListItem at 0x1260089d8>,\n",
       "   <xapian.TermListItem at 0x126008ab0>,\n",
       "   <xapian.TermListItem at 0x126008af8>,\n",
       "   <xapian.TermListItem at 0x126008a68>,\n",
       "   <xapian.TermListItem at 0x126008a20>,\n",
       "   <xapian.TermListItem at 0x126008b40>,\n",
       "   <xapian.TermListItem at 0x126008bd0>,\n",
       "   <xapian.TermListItem at 0x126008b88>,\n",
       "   <xapian.TermListItem at 0x126008c18>,\n",
       "   <xapian.TermListItem at 0x126008ca8>,\n",
       "   <xapian.TermListItem at 0x126008c60>,\n",
       "   <xapian.TermListItem at 0x126008cf0>,\n",
       "   <xapian.TermListItem at 0x126008d80>,\n",
       "   <xapian.TermListItem at 0x126008d38>,\n",
       "   <xapian.TermListItem at 0x126008dc8>,\n",
       "   <xapian.TermListItem at 0x126008ee8>,\n",
       "   <xapian.TermListItem at 0x126008ea0>,\n",
       "   <xapian.TermListItem at 0x126008e58>,\n",
       "   <xapian.TermListItem at 0x126008e10>,\n",
       "   <xapian.TermListItem at 0x1260085e8>,\n",
       "   <xapian.TermListItem at 0x126008510>,\n",
       "   <xapian.TermListItem at 0x126008fc0>,\n",
       "   <xapian.TermListItem at 0x126008f78>,\n",
       "   <xapian.TermListItem at 0x126008f30>,\n",
       "   <xapian.TermListItem at 0x126008240>,\n",
       "   <xapian.TermListItem at 0x126008438>,\n",
       "   <xapian.TermListItem at 0x1260083f0>,\n",
       "   <xapian.TermListItem at 0x126008360>,\n",
       "   <xapian.TermListItem at 0x1260083a8>,\n",
       "   <xapian.TermListItem at 0x1260084c8>,\n",
       "   <xapian.TermListItem at 0x126008708>,\n",
       "   <xapian.TermListItem at 0x126008480>,\n",
       "   <xapian.TermListItem at 0x1260086c0>,\n",
       "   <xapian.TermListItem at 0x1260087e0>,\n",
       "   <xapian.TermListItem at 0x126008750>,\n",
       "   <xapian.TermListItem at 0x11e222ab0>,\n",
       "   <xapian.TermListItem at 0x11e222a20>,\n",
       "   <xapian.TermListItem at 0x11e222f30>,\n",
       "   <xapian.TermListItem at 0x11e222990>,\n",
       "   <xapian.TermListItem at 0x11e222b40>,\n",
       "   <xapian.TermListItem at 0x11e2221f8>,\n",
       "   <xapian.TermListItem at 0x11e2229d8>,\n",
       "   <xapian.TermListItem at 0x11e222240>,\n",
       "   <xapian.TermListItem at 0x11e222bd0>,\n",
       "   <xapian.TermListItem at 0x11e222b88>,\n",
       "   <xapian.TermListItem at 0x11e2222d0>,\n",
       "   <xapian.TermListItem at 0x11e222af8>,\n",
       "   <xapian.TermListItem at 0x11e222360>,\n",
       "   <xapian.TermListItem at 0x1260159d8>,\n",
       "   <xapian.TermListItem at 0x126015120>,\n",
       "   <xapian.TermListItem at 0x126015048>,\n",
       "   <xapian.TermListItem at 0x126015090>,\n",
       "   <xapian.TermListItem at 0x126015a20>,\n",
       "   <xapian.TermListItem at 0x126015168>,\n",
       "   <xapian.TermListItem at 0x1260156c0>,\n",
       "   <xapian.TermListItem at 0x126015750>,\n",
       "   <xapian.TermListItem at 0x1260150d8>,\n",
       "   <xapian.TermListItem at 0x126015708>,\n",
       "   <xapian.TermListItem at 0x126015948>,\n",
       "   <xapian.TermListItem at 0x1260151b0>,\n",
       "   <xapian.TermListItem at 0x1260158b8>,\n",
       "   <xapian.TermListItem at 0x126012900>,\n",
       "   <xapian.TermListItem at 0x126012828>,\n",
       "   <xapian.TermListItem at 0x126012630>,\n",
       "   <xapian.TermListItem at 0x126012ee8>,\n",
       "   <xapian.TermListItem at 0x126012fc0>,\n",
       "   <xapian.TermListItem at 0x126012510>,\n",
       "   <xapian.TermListItem at 0x126012ab0>,\n",
       "   <xapian.TermListItem at 0x126012c60>,\n",
       "   <xapian.TermListItem at 0x126012a68>,\n",
       "   <xapian.TermListItem at 0x1260125a0>,\n",
       "   <xapian.TermListItem at 0x1260121f8>,\n",
       "   <xapian.TermListItem at 0x126012870>,\n",
       "   <xapian.TermListItem at 0x12600a900>,\n",
       "   <xapian.TermListItem at 0x12600a090>,\n",
       "   <xapian.TermListItem at 0x12600afc0>,\n",
       "   <xapian.TermListItem at 0x12600aa20>,\n",
       "   <xapian.TermListItem at 0x12600aca8>,\n",
       "   <xapian.TermListItem at 0x12600aea0>,\n",
       "   <xapian.TermListItem at 0x12600a678>,\n",
       "   <xapian.TermListItem at 0x12600abd0>,\n",
       "   <xapian.TermListItem at 0x12600af30>,\n",
       "   <xapian.TermListItem at 0x12600af78>,\n",
       "   <xapian.TermListItem at 0x12600aab0>,\n",
       "   <xapian.TermListItem at 0x12600ab40>,\n",
       "   <xapian.TermListItem at 0x12600aee8>,\n",
       "   <xapian.TermListItem at 0x12600aa68>,\n",
       "   <xapian.TermListItem at 0x12600ae58>,\n",
       "   <xapian.TermListItem at 0x12600ab88>,\n",
       "   <xapian.TermListItem at 0x12600adc8>,\n",
       "   <xapian.TermListItem at 0x12600a990>,\n",
       "   <xapian.TermListItem at 0x125fff480>,\n",
       "   <xapian.TermListItem at 0x125fffd38>,\n",
       "   <xapian.TermListItem at 0x125fffe58>,\n",
       "   <xapian.TermListItem at 0x125fffbd0>,\n",
       "   <xapian.TermListItem at 0x125fffb88>,\n",
       "   <xapian.TermListItem at 0x125fffca8>,\n",
       "   <xapian.TermListItem at 0x125fffa68>,\n",
       "   <xapian.TermListItem at 0x125fff9d8>,\n",
       "   <xapian.TermListItem at 0x125fffee8>,\n",
       "   <xapian.TermListItem at 0x125fffb40>,\n",
       "   <xapian.TermListItem at 0x125fff948>,\n",
       "   <xapian.TermListItem at 0x125fffa20>,\n",
       "   <xapian.TermListItem at 0x125ffff30>,\n",
       "   <xapian.TermListItem at 0x125fffab0>,\n",
       "   <xapian.TermListItem at 0x125ffffc0>,\n",
       "   <xapian.TermListItem at 0x125fff630>,\n",
       "   <xapian.TermListItem at 0x125fffe10>,\n",
       "   <xapian.TermListItem at 0x125fffcf0>,\n",
       "   <xapian.TermListItem at 0x125fffd80>,\n",
       "   <xapian.TermListItem at 0x125fffc18>,\n",
       "   <xapian.TermListItem at 0x125fffc60>,\n",
       "   <xapian.TermListItem at 0x125ffff78>,\n",
       "   <xapian.TermListItem at 0x125fffea0>,\n",
       "   <xapian.TermListItem at 0x125fffdc8>,\n",
       "   <xapian.TermListItem at 0x11e1bcbd0>,\n",
       "   <xapian.TermListItem at 0x11e1bcaf8>,\n",
       "   <xapian.TermListItem at 0x11e1bcca8>,\n",
       "   <xapian.TermListItem at 0x11e1bc900>,\n",
       "   <xapian.TermListItem at 0x11e231480>,\n",
       "   <xapian.TermListItem at 0x11e231360>,\n",
       "   <xapian.TermListItem at 0x11e231b40>,\n",
       "   <xapian.TermListItem at 0x11e231a20>,\n",
       "   <xapian.TermListItem at 0x11e231510>,\n",
       "   <xapian.TermListItem at 0x11e231900>,\n",
       "   <xapian.TermListItem at 0x11e2318b8>,\n",
       "   <xapian.TermListItem at 0x11e231948>,\n",
       "   <xapian.TermListItem at 0x11e231708>,\n",
       "   <xapian.TermListItem at 0x11e231558>,\n",
       "   <xapian.TermListItem at 0x11e231dc8>,\n",
       "   <xapian.TermListItem at 0x11e231d38>,\n",
       "   <xapian.TermListItem at 0x11e231870>,\n",
       "   <xapian.TermListItem at 0x11e231b88>,\n",
       "   <xapian.TermListItem at 0x11e2319d8>,\n",
       "   <xapian.TermListItem at 0x11e231cf0>,\n",
       "   <xapian.TermListItem at 0x11e231af8>,\n",
       "   <xapian.TermListItem at 0x11e231240>,\n",
       "   <xapian.TermListItem at 0x11e231ab0>,\n",
       "   <xapian.TermListItem at 0x11e1dacf0>,\n",
       "   <xapian.TermListItem at 0x11e1dadc8>,\n",
       "   <xapian.TermListItem at 0x1260049d8>,\n",
       "   <xapian.TermListItem at 0x126004090>,\n",
       "   <xapian.TermListItem at 0x1260041b0>,\n",
       "   <xapian.TermListItem at 0x1260041f8>,\n",
       "   <xapian.TermListItem at 0x126004120>,\n",
       "   <xapian.TermListItem at 0x126004ca8>,\n",
       "   <xapian.TermListItem at 0x126004948>],\n",
       "  'text': b'\"Lara_Croft-COLON-_Tomb_Raider 0 Lara Croft : Tomb Raider -LRB- also known as simply Tomb Raider -RRB- is a 2001 action-adventure film based on the popular Tomb Raider video game series featuring the character Lara Croft portrayed by Angelina Jolie .\\\\n Lara_Croft-COLON-_Tomb_Raider 1 An international co-production between the United States , the United Kingdom , Japan , and Germany , it was directed by Simon West and revolves around Lara Croft trying to obtain ancient artifacts from the enemy , the Illuminati .\\\\n Lara_Croft-COLON-_Tomb_Raider 4 The film was released on June 15 , 2001 , and received generally negative reviews from critics for its stylized action and bland plot , although Angelina Jolie was praised for her performance .\\\\n Lara_Croft-COLON-_Tomb_Raider 5 Tomb Raider was the highest-grossing film on its opening weekend .\\\\n Lara_Croft-COLON-_Tomb_Raider 6 A sequel , titled Lara Croft : Tomb Raider -- The Cradle of Life , was released in 2003 .\\\\n\"',\n",
       "  'weight': 5.6444258929018565}]"
      ]
     },
     "execution_count": 24,
     "metadata": {},
     "output_type": "execute_result"
    }
   ],
   "source": [
    "#Search within selected document list\n",
    "claim_text = \"Drake Bell released an album\"\n",
    "pagesize = 100\n",
    "doc_list = ['1994–95_Venezuelan_Primera_División_season','Lara_Croft-COLON-_Tomb_Raider']\n",
    "\n",
    "db = xapian.Database(dbpath)\n",
    "print(\"db=\",db,dbpath)\n",
    "qp = xapian.QueryParser()\n",
    "qp.set_stemmer(xapian.Stem(\"en\"))\n",
    "qp.set_stemming_strategy(qp.STEM_SOME)\n",
    "stopper = getstopper()\n",
    "qp.set_stopper(stopper)\n",
    "print(qp.stoplist)\n",
    "qp.add_prefix('docid', 'S') #useless\n",
    "\n",
    "##def doclist_query(query_string, doc_list):\n",
    "#doc_queries=[qp.parse_query('{}'.format(doc), 0, 'S') for doc in doc_list]\n",
    "doc_queries = ['Q{}'.format(rated) for rated in doc_list] #this could to ensure the exact full id text is taken\n",
    "doc_query = xapian.Query(xapian.Query.OP_OR, doc_queries)\n",
    "\n",
    "claim_query = qp.parse_query(claim_text)\n",
    "#use filter to search only in selected docs\n",
    "if len(doc_list)>0:\n",
    "    final_query = xapian.Query(xapian.Query.OP_FILTER, claim_query, doc_query)\n",
    "else:\n",
    "    final_query = claim_query\n",
    "#join_query = xapian.Query(xapian.Query.OP_AND, query1, query2)\n",
    "print(final_query)\n",
    "\n",
    "# setup the enquire object to perform the query\n",
    "enq = xapian.Enquire(db)\n",
    "\n",
    "# set the weighting model for ranking\n",
    "enq.set_weighting_scheme(xapian.BM25Weight())\n",
    "enq.set_weighting_scheme(xapian.TfIdfWeight())\n",
    "enq.set_query(final_query)\n",
    "\n",
    "# iterate through the matched set and display the stored json dup\n",
    "print(\"Doc Level Results:\\n\")\n",
    "\n",
    "matches = enq.get_mset(0, pagesize)\n",
    "query_results = []\n",
    "doc_title = []\n",
    "for match in matches:\n",
    "    print(match)\n",
    "    result = dict(\n",
    "        found_doc = get_doc_id(match),\n",
    "        rank = match.rank + 1, \n",
    "        term = [t for t in match.document.termlist()],\n",
    "        percent = match.percent,\n",
    "        weight = match.weight,\n",
    "        docid = match.docid,\n",
    "        text = match.document.get_data()\n",
    "    )\n",
    "    query_results.append(result)\n",
    "    doc_title.append(get_doc_id(match))\n",
    "\n",
    "query_results"
   ]
  },
  {
   "cell_type": "code",
   "execution_count": 73,
   "metadata": {},
   "outputs": [
    {
     "name": "stdout",
     "output_type": "stream",
     "text": [
      "['Q1994–95_Venezuelan_Primera_División_season', 'QLara_Croft-COLON-_Tomb_Raider']\n",
      "Query((Q1994–95_Venezuelan_Primera_División_season OR QLara_Croft-COLON-_Tomb_Raider))\n"
     ]
    }
   ],
   "source": [
    "doc_list = ['1994–95_Venezuelan_Primera_División_season','Lara_Croft-COLON-_Tomb_Raider']\n",
    "rated_queries = ['Q{}'.format(rated) for rated in doc_list]\n",
    "rated_query = xapian.Query(xapian.Query.OP_OR, rated_queries)\n",
    "\n",
    "print(rated_queries)\n",
    "print(rated_query)"
   ]
  }
 ],
 "metadata": {
  "kernelspec": {
   "display_name": "Python 3",
   "language": "python",
   "name": "python3"
  },
  "language_info": {
   "codemirror_mode": {
    "name": "ipython",
    "version": 3
   },
   "file_extension": ".py",
   "mimetype": "text/x-python",
   "name": "python",
   "nbconvert_exporter": "python",
   "pygments_lexer": "ipython3",
   "version": "3.6.8"
  }
 },
 "nbformat": 4,
 "nbformat_minor": 2
}
